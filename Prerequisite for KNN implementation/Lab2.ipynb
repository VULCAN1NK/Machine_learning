{
  "nbformat": 4,
  "nbformat_minor": 0,
  "metadata": {
    "colab": {
      "provenance": [],
      "collapsed_sections": []
    },
    "kernelspec": {
      "name": "python3",
      "display_name": "Python 3"
    },
    "language_info": {
      "name": "python"
    }
  },
  "cells": [
    {
      "cell_type": "markdown",
      "source": [
        "# LAB 2"
      ],
      "metadata": {
        "id": "kJwgHrzqDb0C"
      }
    },
    {
      "cell_type": "markdown",
      "source": [
        "## Navneeth Krishna 21047"
      ],
      "metadata": {
        "id": "tQt_iee9Di0q"
      }
    },
    {
      "cell_type": "markdown",
      "source": [
        "# Part A: Prerequisite for KNN implementation"
      ],
      "metadata": {
        "id": "fHwyE9SgboCH"
      }
    },
    {
      "cell_type": "markdown",
      "source": [
        "1) Creating 2 vectors"
      ],
      "metadata": {
        "id": "BHs4fwcXDUrY"
      }
    },
    {
      "cell_type": "code",
      "source": [
        "import numpy as np\n",
        "V1 =np.array([9,8,7,6])\n",
        "V2 = np.array([3,5,9,2])"
      ],
      "metadata": {
        "id": "DSyJCWB1DZTg"
      },
      "execution_count": 585,
      "outputs": []
    },
    {
      "cell_type": "markdown",
      "source": [
        "Checking which values are same"
      ],
      "metadata": {
        "id": "-5O1W1_AF5Do"
      }
    },
    {
      "cell_type": "code",
      "source": [
        "V3 = np.sum(V1 == V2)\n",
        "print(V3)"
      ],
      "metadata": {
        "colab": {
          "base_uri": "https://localhost:8080/"
        },
        "id": "6kJFPDkIF-8o",
        "outputId": "8a4fa2cb-8348-45f4-9475-d61f5960991b"
      },
      "execution_count": 586,
      "outputs": [
        {
          "output_type": "stream",
          "name": "stdout",
          "text": [
            "0\n"
          ]
        }
      ]
    },
    {
      "cell_type": "markdown",
      "source": [
        "2) Matrix creation"
      ],
      "metadata": {
        "id": "AVA2Q65RHppY"
      }
    },
    {
      "cell_type": "markdown",
      "source": [
        "a)Creating a matrix with 10 rows and 3 columns"
      ],
      "metadata": {
        "id": "5mcCzo7ILlsr"
      }
    },
    {
      "cell_type": "code",
      "source": [
        "M = np.random.randint(10,size=(10,3))\n",
        "print(M)\n"
      ],
      "metadata": {
        "colab": {
          "base_uri": "https://localhost:8080/"
        },
        "id": "fwLN4GuoHr6T",
        "outputId": "32898093-f126-43d6-ccfa-71e0e81a4b39"
      },
      "execution_count": 587,
      "outputs": [
        {
          "output_type": "stream",
          "name": "stdout",
          "text": [
            "[[3 8 8]\n",
            " [7 8 1]\n",
            " [6 4 5]\n",
            " [5 2 5]\n",
            " [9 7 3]\n",
            " [8 1 6]\n",
            " [8 1 0]\n",
            " [4 2 7]\n",
            " [1 9 9]\n",
            " [1 9 6]]\n"
          ]
        }
      ]
    },
    {
      "cell_type": "markdown",
      "source": [
        "b.Printing the size of M"
      ],
      "metadata": {
        "id": "h20Sd9gIKajN"
      }
    },
    {
      "cell_type": "code",
      "source": [
        "M.shape"
      ],
      "metadata": {
        "colab": {
          "base_uri": "https://localhost:8080/"
        },
        "id": "Dtr6g3n8L6Z-",
        "outputId": "b791ff6c-d3ba-47c6-e379-f5cbcffdec10"
      },
      "execution_count": 588,
      "outputs": [
        {
          "output_type": "execute_result",
          "data": {
            "text/plain": [
              "(10, 3)"
            ]
          },
          "metadata": {},
          "execution_count": 588
        }
      ]
    },
    {
      "cell_type": "markdown",
      "source": [
        "c.Printing the number of rows in M"
      ],
      "metadata": {
        "id": "RUap75TsL-I_"
      }
    },
    {
      "cell_type": "code",
      "source": [
        "M.shape[0]"
      ],
      "metadata": {
        "colab": {
          "base_uri": "https://localhost:8080/"
        },
        "id": "sVQ28tFBMCz2",
        "outputId": "6445fddf-d7f8-4f64-d39a-5fd223a010c3"
      },
      "execution_count": 589,
      "outputs": [
        {
          "output_type": "execute_result",
          "data": {
            "text/plain": [
              "10"
            ]
          },
          "metadata": {},
          "execution_count": 589
        }
      ]
    },
    {
      "cell_type": "markdown",
      "source": [
        "d.Printing the columns in M"
      ],
      "metadata": {
        "id": "61taybegNfqe"
      }
    },
    {
      "cell_type": "code",
      "source": [
        "M.shape[1]"
      ],
      "metadata": {
        "colab": {
          "base_uri": "https://localhost:8080/"
        },
        "id": "QTvr6tJYNfDf",
        "outputId": "23da6e46-d75f-4409-a276-f15ae8b7ab18"
      },
      "execution_count": 590,
      "outputs": [
        {
          "output_type": "execute_result",
          "data": {
            "text/plain": [
              "3"
            ]
          },
          "metadata": {},
          "execution_count": 590
        }
      ]
    },
    {
      "cell_type": "markdown",
      "source": [
        "e.Simple loop to modify 3rd column"
      ],
      "metadata": {
        "id": "GdfXn5NHPFNC"
      }
    },
    {
      "cell_type": "code",
      "source": [
        "C1 = np.row_stack (M[:,0])\n",
        "C2 = np.row_stack (M[:,1])\n",
        "C3 = np.row_stack (M[:,2])\n",
        "arr1 = np.column_stack((C1,C2)) \n",
        "N = np.array(arr1)\n",
        "Sum = C1 + C2\n",
        "length = np.size(Sum)\n",
        "for X in range(length):\n",
        "  if np.mod(Sum[X],4) == 0:\n",
        "    C3[X] = 1\n",
        "  else:\n",
        "    C3[X] = 0\n",
        "\n",
        "arr2 = np.column_stack((arr1,C3))\n",
        "M = arr2\n",
        "print(M)\n",
        "    \n"
      ],
      "metadata": {
        "colab": {
          "base_uri": "https://localhost:8080/"
        },
        "id": "0abX0F1SPNYF",
        "outputId": "651241e2-eb9c-46f9-8b64-50857ae806a5"
      },
      "execution_count": 591,
      "outputs": [
        {
          "output_type": "stream",
          "name": "stdout",
          "text": [
            "[[3 8 0]\n",
            " [7 8 0]\n",
            " [6 4 0]\n",
            " [5 2 0]\n",
            " [9 7 1]\n",
            " [8 1 0]\n",
            " [8 1 0]\n",
            " [4 2 0]\n",
            " [1 9 0]\n",
            " [1 9 0]]\n"
          ]
        }
      ]
    },
    {
      "cell_type": "markdown",
      "source": [
        "3.Creating pandas data frame df"
      ],
      "metadata": {
        "id": "S4f3EVO6trRP"
      }
    },
    {
      "cell_type": "code",
      "source": [
        "import pandas as pd\n",
        "df = pd.DataFrame(M)\n",
        "Y = M[0:,0:,]\n",
        "print(df)"
      ],
      "metadata": {
        "colab": {
          "base_uri": "https://localhost:8080/"
        },
        "id": "fNA3dGZctwxi",
        "outputId": "2374e2e7-7c0f-4068-b7fd-707740bd262c"
      },
      "execution_count": 592,
      "outputs": [
        {
          "output_type": "stream",
          "name": "stdout",
          "text": [
            "   0  1  2\n",
            "0  3  8  0\n",
            "1  7  8  0\n",
            "2  6  4  0\n",
            "3  5  2  0\n",
            "4  9  7  1\n",
            "5  8  1  0\n",
            "6  8  1  0\n",
            "7  4  2  0\n",
            "8  1  9  0\n",
            "9  1  9  0\n"
          ]
        }
      ]
    },
    {
      "cell_type": "markdown",
      "source": [
        "Naming the columns"
      ],
      "metadata": {
        "id": "1IxbBaZeur5Q"
      }
    },
    {
      "cell_type": "code",
      "source": [
        "df.rename (columns = {  0  : 'X1' ,  1  : 'X2' ,  2  : 'Y' }, inplace=True )\n",
        "df"
      ],
      "metadata": {
        "colab": {
          "base_uri": "https://localhost:8080/",
          "height": 363
        },
        "id": "V3-xj_KauvcZ",
        "outputId": "088c1198-0709-468b-a578-1d7a8d34225c"
      },
      "execution_count": 593,
      "outputs": [
        {
          "output_type": "execute_result",
          "data": {
            "text/plain": [
              "   X1  X2  Y\n",
              "0   3   8  0\n",
              "1   7   8  0\n",
              "2   6   4  0\n",
              "3   5   2  0\n",
              "4   9   7  1\n",
              "5   8   1  0\n",
              "6   8   1  0\n",
              "7   4   2  0\n",
              "8   1   9  0\n",
              "9   1   9  0"
            ],
            "text/html": [
              "\n",
              "  <div id=\"df-ea77e2d9-a642-4aea-89ad-e56d1499fb7a\">\n",
              "    <div class=\"colab-df-container\">\n",
              "      <div>\n",
              "<style scoped>\n",
              "    .dataframe tbody tr th:only-of-type {\n",
              "        vertical-align: middle;\n",
              "    }\n",
              "\n",
              "    .dataframe tbody tr th {\n",
              "        vertical-align: top;\n",
              "    }\n",
              "\n",
              "    .dataframe thead th {\n",
              "        text-align: right;\n",
              "    }\n",
              "</style>\n",
              "<table border=\"1\" class=\"dataframe\">\n",
              "  <thead>\n",
              "    <tr style=\"text-align: right;\">\n",
              "      <th></th>\n",
              "      <th>X1</th>\n",
              "      <th>X2</th>\n",
              "      <th>Y</th>\n",
              "    </tr>\n",
              "  </thead>\n",
              "  <tbody>\n",
              "    <tr>\n",
              "      <th>0</th>\n",
              "      <td>3</td>\n",
              "      <td>8</td>\n",
              "      <td>0</td>\n",
              "    </tr>\n",
              "    <tr>\n",
              "      <th>1</th>\n",
              "      <td>7</td>\n",
              "      <td>8</td>\n",
              "      <td>0</td>\n",
              "    </tr>\n",
              "    <tr>\n",
              "      <th>2</th>\n",
              "      <td>6</td>\n",
              "      <td>4</td>\n",
              "      <td>0</td>\n",
              "    </tr>\n",
              "    <tr>\n",
              "      <th>3</th>\n",
              "      <td>5</td>\n",
              "      <td>2</td>\n",
              "      <td>0</td>\n",
              "    </tr>\n",
              "    <tr>\n",
              "      <th>4</th>\n",
              "      <td>9</td>\n",
              "      <td>7</td>\n",
              "      <td>1</td>\n",
              "    </tr>\n",
              "    <tr>\n",
              "      <th>5</th>\n",
              "      <td>8</td>\n",
              "      <td>1</td>\n",
              "      <td>0</td>\n",
              "    </tr>\n",
              "    <tr>\n",
              "      <th>6</th>\n",
              "      <td>8</td>\n",
              "      <td>1</td>\n",
              "      <td>0</td>\n",
              "    </tr>\n",
              "    <tr>\n",
              "      <th>7</th>\n",
              "      <td>4</td>\n",
              "      <td>2</td>\n",
              "      <td>0</td>\n",
              "    </tr>\n",
              "    <tr>\n",
              "      <th>8</th>\n",
              "      <td>1</td>\n",
              "      <td>9</td>\n",
              "      <td>0</td>\n",
              "    </tr>\n",
              "    <tr>\n",
              "      <th>9</th>\n",
              "      <td>1</td>\n",
              "      <td>9</td>\n",
              "      <td>0</td>\n",
              "    </tr>\n",
              "  </tbody>\n",
              "</table>\n",
              "</div>\n",
              "      <button class=\"colab-df-convert\" onclick=\"convertToInteractive('df-ea77e2d9-a642-4aea-89ad-e56d1499fb7a')\"\n",
              "              title=\"Convert this dataframe to an interactive table.\"\n",
              "              style=\"display:none;\">\n",
              "        \n",
              "  <svg xmlns=\"http://www.w3.org/2000/svg\" height=\"24px\"viewBox=\"0 0 24 24\"\n",
              "       width=\"24px\">\n",
              "    <path d=\"M0 0h24v24H0V0z\" fill=\"none\"/>\n",
              "    <path d=\"M18.56 5.44l.94 2.06.94-2.06 2.06-.94-2.06-.94-.94-2.06-.94 2.06-2.06.94zm-11 1L8.5 8.5l.94-2.06 2.06-.94-2.06-.94L8.5 2.5l-.94 2.06-2.06.94zm10 10l.94 2.06.94-2.06 2.06-.94-2.06-.94-.94-2.06-.94 2.06-2.06.94z\"/><path d=\"M17.41 7.96l-1.37-1.37c-.4-.4-.92-.59-1.43-.59-.52 0-1.04.2-1.43.59L10.3 9.45l-7.72 7.72c-.78.78-.78 2.05 0 2.83L4 21.41c.39.39.9.59 1.41.59.51 0 1.02-.2 1.41-.59l7.78-7.78 2.81-2.81c.8-.78.8-2.07 0-2.86zM5.41 20L4 18.59l7.72-7.72 1.47 1.35L5.41 20z\"/>\n",
              "  </svg>\n",
              "      </button>\n",
              "      \n",
              "  <style>\n",
              "    .colab-df-container {\n",
              "      display:flex;\n",
              "      flex-wrap:wrap;\n",
              "      gap: 12px;\n",
              "    }\n",
              "\n",
              "    .colab-df-convert {\n",
              "      background-color: #E8F0FE;\n",
              "      border: none;\n",
              "      border-radius: 50%;\n",
              "      cursor: pointer;\n",
              "      display: none;\n",
              "      fill: #1967D2;\n",
              "      height: 32px;\n",
              "      padding: 0 0 0 0;\n",
              "      width: 32px;\n",
              "    }\n",
              "\n",
              "    .colab-df-convert:hover {\n",
              "      background-color: #E2EBFA;\n",
              "      box-shadow: 0px 1px 2px rgba(60, 64, 67, 0.3), 0px 1px 3px 1px rgba(60, 64, 67, 0.15);\n",
              "      fill: #174EA6;\n",
              "    }\n",
              "\n",
              "    [theme=dark] .colab-df-convert {\n",
              "      background-color: #3B4455;\n",
              "      fill: #D2E3FC;\n",
              "    }\n",
              "\n",
              "    [theme=dark] .colab-df-convert:hover {\n",
              "      background-color: #434B5C;\n",
              "      box-shadow: 0px 1px 3px 1px rgba(0, 0, 0, 0.15);\n",
              "      filter: drop-shadow(0px 1px 2px rgba(0, 0, 0, 0.3));\n",
              "      fill: #FFFFFF;\n",
              "    }\n",
              "  </style>\n",
              "\n",
              "      <script>\n",
              "        const buttonEl =\n",
              "          document.querySelector('#df-ea77e2d9-a642-4aea-89ad-e56d1499fb7a button.colab-df-convert');\n",
              "        buttonEl.style.display =\n",
              "          google.colab.kernel.accessAllowed ? 'block' : 'none';\n",
              "\n",
              "        async function convertToInteractive(key) {\n",
              "          const element = document.querySelector('#df-ea77e2d9-a642-4aea-89ad-e56d1499fb7a');\n",
              "          const dataTable =\n",
              "            await google.colab.kernel.invokeFunction('convertToInteractive',\n",
              "                                                     [key], {});\n",
              "          if (!dataTable) return;\n",
              "\n",
              "          const docLinkHtml = 'Like what you see? Visit the ' +\n",
              "            '<a target=\"_blank\" href=https://colab.research.google.com/notebooks/data_table.ipynb>data table notebook</a>'\n",
              "            + ' to learn more about interactive tables.';\n",
              "          element.innerHTML = '';\n",
              "          dataTable['output_type'] = 'display_data';\n",
              "          await google.colab.output.renderOutput(dataTable, element);\n",
              "          const docLink = document.createElement('div');\n",
              "          docLink.innerHTML = docLinkHtml;\n",
              "          element.appendChild(docLink);\n",
              "        }\n",
              "      </script>\n",
              "    </div>\n",
              "  </div>\n",
              "  "
            ]
          },
          "metadata": {},
          "execution_count": 593
        }
      ]
    },
    {
      "cell_type": "markdown",
      "source": [
        "4.Plot X1 and X2 using scatter plot"
      ],
      "metadata": {
        "id": "zhVLM26a2Cw2"
      }
    },
    {
      "cell_type": "code",
      "source": [
        "import matplotlib.pyplot as plt\n",
        "col = df.Y.map({0:'b', 1:'r'})\n",
        "df.plot.scatter(x='X1', y='X2', c=col)\n",
        "plt.show()"
      ],
      "metadata": {
        "colab": {
          "base_uri": "https://localhost:8080/",
          "height": 279
        },
        "id": "crGpH8Dw2KlZ",
        "outputId": "823ff97e-1cac-48b8-ee5d-7bd84fb43633"
      },
      "execution_count": 594,
      "outputs": [
        {
          "output_type": "display_data",
          "data": {
            "text/plain": [
              "<Figure size 432x288 with 1 Axes>"
            ],
            "image/png": "[encoded data removed]"
          },
          "metadata": {
            "needs_background": "light"
          }
        }
      ]
    },
    {
      "cell_type": "markdown",
      "source": [
        "5.a.Find squared error"
      ],
      "metadata": {
        "id": "IgQhhNiR7TY5"
      }
    },
    {
      "cell_type": "code",
      "source": [
        "SE = np.square(C1 - C2)\n",
        "print(SE)"
      ],
      "metadata": {
        "colab": {
          "base_uri": "https://localhost:8080/"
        },
        "id": "Yydycrmx7bQx",
        "outputId": "e7f94cf9-ee5b-416f-a75c-73e9f5ff4daa"
      },
      "execution_count": 595,
      "outputs": [
        {
          "output_type": "stream",
          "name": "stdout",
          "text": [
            "[[25]\n",
            " [ 1]\n",
            " [ 4]\n",
            " [ 9]\n",
            " [ 4]\n",
            " [49]\n",
            " [49]\n",
            " [ 4]\n",
            " [64]\n",
            " [64]]\n"
          ]
        }
      ]
    },
    {
      "cell_type": "markdown",
      "source": [
        "b.Sum of squared error"
      ],
      "metadata": {
        "id": "3wNlkjxp8NnC"
      }
    },
    {
      "cell_type": "code",
      "source": [
        "SSE = np.sum(SE)\n",
        "SSE"
      ],
      "metadata": {
        "colab": {
          "base_uri": "https://localhost:8080/"
        },
        "id": "87BzcWW88Syb",
        "outputId": "24d3083b-3504-45af-9039-c9c951b92c0f"
      },
      "execution_count": 596,
      "outputs": [
        {
          "output_type": "execute_result",
          "data": {
            "text/plain": [
              "273"
            ]
          },
          "metadata": {},
          "execution_count": 596
        }
      ]
    },
    {
      "cell_type": "markdown",
      "source": [
        "6.Find euclidian distance between first 2 rows"
      ],
      "metadata": {
        "id": "dKIvN3gV8pdU"
      }
    },
    {
      "cell_type": "code",
      "source": [
        "import math as math \n",
        "p = M[0,:]\n",
        "q = M[1,:]\n",
        "#ED = math.dist(p,q)\n",
        "euclidiean_distance = np.sqrt(np.sum((p-q)**2))\n",
        "print(euclidiean_distance)"
      ],
      "metadata": {
        "colab": {
          "base_uri": "https://localhost:8080/"
        },
        "id": "Cyp2MoTZ8vtc",
        "outputId": "13042e24-7219-490b-9042-b80a316bcf3c"
      },
      "execution_count": 597,
      "outputs": [
        {
          "output_type": "stream",
          "name": "stdout",
          "text": [
            "4.0\n"
          ]
        }
      ]
    },
    {
      "cell_type": "markdown",
      "source": [
        "Compare the euclidian distance"
      ],
      "metadata": {
        "id": "mDYNE7RnYxz3"
      }
    },
    {
      "cell_type": "code",
      "source": [
        "comp = np.linalg.norm(p-q)\n",
        "print(comp)"
      ],
      "metadata": {
        "colab": {
          "base_uri": "https://localhost:8080/"
        },
        "id": "VeAW892xY55T",
        "outputId": "ed8e707b-68f4-4021-934d-e6af91c527c0"
      },
      "execution_count": 598,
      "outputs": [
        {
          "output_type": "stream",
          "name": "stdout",
          "text": [
            "4.0\n"
          ]
        }
      ]
    },
    {
      "cell_type": "markdown",
      "source": [
        "7.Create vector with random values"
      ],
      "metadata": {
        "id": "yTWGiVym8FrH"
      }
    },
    {
      "cell_type": "code",
      "source": [
        "import numpy as np\n",
        "V = np.random.randint(10, size=(2))\n",
        "print(V)"
      ],
      "metadata": {
        "colab": {
          "base_uri": "https://localhost:8080/"
        },
        "id": "xqNwzjIP8WeJ",
        "outputId": "f8ea260f-77a0-4534-ec3d-ce67b4134e2a"
      },
      "execution_count": 599,
      "outputs": [
        {
          "output_type": "stream",
          "name": "stdout",
          "text": [
            "[1 3]\n"
          ]
        }
      ]
    },
    {
      "cell_type": "markdown",
      "source": [
        "Finding euclidian distance between M and V and storing it and printing\n",
        "\n"
      ],
      "metadata": {
        "id": "ThbKv3IQBLsG"
      }
    },
    {
      "cell_type": "code",
      "source": [
        "lis = list()\n",
        "for i in M:\n",
        "    lis.append(np.linalg.norm(i[:2]-V))\n",
        "dis = np.array(lis)\n",
        "print(dis)"
      ],
      "metadata": {
        "colab": {
          "base_uri": "https://localhost:8080/"
        },
        "id": "IFA4WAPpBkRt",
        "outputId": "4a0e96ce-0045-4e9b-b981-74376821750d"
      },
      "execution_count": 600,
      "outputs": [
        {
          "output_type": "stream",
          "name": "stdout",
          "text": [
            "[5.385 7.81  5.099 4.123 8.944 7.28  7.28  3.162 6.    6.   ]\n"
          ]
        }
      ]
    },
    {
      "cell_type": "markdown",
      "source": [
        "8.Manipulate matrix\n",
        "\n",
        "Create a matrix A with 10 rows and 2 columns."
      ],
      "metadata": {
        "id": "5FHl3r3BMqad"
      }
    },
    {
      "cell_type": "code",
      "source": [
        "A=np.array([[1,2],[2,3],[3,4],[4,5],[5,6],[6,7],[7,8],[8,9],[9,1],[3,4]])\n",
        "print(A)"
      ],
      "metadata": {
        "colab": {
          "base_uri": "https://localhost:8080/"
        },
        "id": "VIdCoFLlMhB6",
        "outputId": "b501aefb-39d0-4215-c020-f38c3a7363f3"
      },
      "execution_count": 601,
      "outputs": [
        {
          "output_type": "stream",
          "name": "stdout",
          "text": [
            "[[1 2]\n",
            " [2 3]\n",
            " [3 4]\n",
            " [4 5]\n",
            " [5 6]\n",
            " [6 7]\n",
            " [7 8]\n",
            " [8 9]\n",
            " [9 1]\n",
            " [3 4]]\n"
          ]
        }
      ]
    },
    {
      "cell_type": "markdown",
      "source": [
        "Add new column"
      ],
      "metadata": {
        "id": "rHDt3gQeOeZ5"
      }
    },
    {
      "cell_type": "code",
      "source": [
        "#C = np.array[[4],[3],[2],[6],[8],[3],[0],[2],[7],[3]]\n",
        "C = np.array([4,3,2,6,8,3,0,2,7,3])\n",
        "A=np.column_stack((A,C))\n",
        "print(A)"
      ],
      "metadata": {
        "colab": {
          "base_uri": "https://localhost:8080/"
        },
        "id": "iaFWag64Of4O",
        "outputId": "5ac06693-bf8e-4891-d5f3-54c3d5d03a3a"
      },
      "execution_count": 602,
      "outputs": [
        {
          "output_type": "stream",
          "name": "stdout",
          "text": [
            "[[1 2 4]\n",
            " [2 3 3]\n",
            " [3 4 2]\n",
            " [4 5 6]\n",
            " [5 6 8]\n",
            " [6 7 3]\n",
            " [7 8 0]\n",
            " [8 9 2]\n",
            " [9 1 7]\n",
            " [3 4 3]]\n"
          ]
        }
      ]
    },
    {
      "cell_type": "markdown",
      "source": [
        "Add new row to matrix"
      ],
      "metadata": {
        "id": "-MAA7bk6TMov"
      }
    },
    {
      "cell_type": "code",
      "source": [
        "R = np.array([[4,1,6]])\n",
        "A = np.vstack((A,R))\n",
        "print(A)"
      ],
      "metadata": {
        "colab": {
          "base_uri": "https://localhost:8080/"
        },
        "id": "B8PgwF4SUC5P",
        "outputId": "418682a2-3818-4ece-e4a6-cea91a125766"
      },
      "execution_count": 603,
      "outputs": [
        {
          "output_type": "stream",
          "name": "stdout",
          "text": [
            "[[1 2 4]\n",
            " [2 3 3]\n",
            " [3 4 2]\n",
            " [4 5 6]\n",
            " [5 6 8]\n",
            " [6 7 3]\n",
            " [7 8 0]\n",
            " [8 9 2]\n",
            " [9 1 7]\n",
            " [3 4 3]\n",
            " [4 1 6]]\n"
          ]
        }
      ]
    },
    {
      "cell_type": "markdown",
      "source": [
        "9.Create a matrix Md with two columns X1, X2 and populate with random values"
      ],
      "metadata": {
        "id": "tUdevkMRUZth"
      }
    },
    {
      "cell_type": "code",
      "source": [
        "Md = np.random.randint(10,size=(10,2))\n",
        "colname=['X1','X2']\n",
        "df = pd.DataFrame(Md, columns=colname)\n",
        "print(df)"
      ],
      "metadata": {
        "colab": {
          "base_uri": "https://localhost:8080/"
        },
        "id": "mw3-4c52VrF1",
        "outputId": "e6a38af6-3aa9-4a54-b18b-cb321d93b7de"
      },
      "execution_count": 604,
      "outputs": [
        {
          "output_type": "stream",
          "name": "stdout",
          "text": [
            "   X1  X2\n",
            "0   7   9\n",
            "1   0   7\n",
            "2   2   1\n",
            "3   5   6\n",
            "4   7   1\n",
            "5   1   5\n",
            "6   1   3\n",
            "7   1   4\n",
            "8   8   7\n",
            "9   8   4\n"
          ]
        }
      ]
    },
    {
      "cell_type": "code",
      "source": [
        "z = np.random.randint(2,size = (10,1))\n",
        "Md = np.column_stack((Md,z))\n",
        "print(Md)"
      ],
      "metadata": {
        "id": "BELvlJyc3k7G",
        "colab": {
          "base_uri": "https://localhost:8080/"
        },
        "outputId": "a30a008c-51ce-4f8c-9481-a6581527086c"
      },
      "execution_count": 605,
      "outputs": [
        {
          "output_type": "stream",
          "name": "stdout",
          "text": [
            "[[7 9 1]\n",
            " [0 7 0]\n",
            " [2 1 1]\n",
            " [5 6 0]\n",
            " [7 1 0]\n",
            " [1 5 0]\n",
            " [1 3 1]\n",
            " [1 4 0]\n",
            " [8 7 0]\n",
            " [8 4 0]]\n"
          ]
        }
      ]
    },
    {
      "cell_type": "markdown",
      "source": [
        "Euclidean distance between Md and M"
      ],
      "metadata": {
        "id": "jaf_bHTJXvxL"
      }
    },
    {
      "cell_type": "code",
      "source": [
        "m = np.random.randint(50, size=(10,2))\n",
        "Dist=np.empty([100,3])\n",
        "index=0\n",
        "for i in range(m.shape[0]):\n",
        "  for j in range(m.shape[0]):\n",
        "    e_dis=np.sqrt(np.sum((M[i]-Md[j])**2))\n",
        "    temp=[i , j , e_dis]\n",
        "    Dist[index]=temp\n",
        "    index+=1\n",
        "print(Dist)"
      ],
      "metadata": {
        "colab": {
          "base_uri": "https://localhost:8080/"
        },
        "id": "uPSIyiJBX1w6",
        "outputId": "e3db049a-d05e-43c2-ba09-c458a5542c2c"
      },
      "execution_count": 606,
      "outputs": [
        {
          "output_type": "stream",
          "name": "stdout",
          "text": [
            "[[ 0.     0.     4.243]\n",
            " [ 0.     1.     3.162]\n",
            " [ 0.     2.     7.141]\n",
            " [ 0.     3.     2.828]\n",
            " [ 0.     4.     8.062]\n",
            " [ 0.     5.     3.606]\n",
            " [ 0.     6.     5.477]\n",
            " [ 0.     7.     4.472]\n",
            " [ 0.     8.     5.099]\n",
            " [ 0.     9.     6.403]\n",
            " [ 1.     0.     1.414]\n",
            " [ 1.     1.     7.071]\n",
            " [ 1.     2.     8.66 ]\n",
            " [ 1.     3.     2.828]\n",
            " [ 1.     4.     7.   ]\n",
            " [ 1.     5.     6.708]\n",
            " [ 1.     6.     7.874]\n",
            " [ 1.     7.     7.211]\n",
            " [ 1.     8.     1.414]\n",
            " [ 1.     9.     4.123]\n",
            " [ 2.     0.     5.196]\n",
            " [ 2.     1.     6.708]\n",
            " [ 2.     2.     5.099]\n",
            " [ 2.     3.     2.236]\n",
            " [ 2.     4.     3.162]\n",
            " [ 2.     5.     5.099]\n",
            " [ 2.     6.     5.196]\n",
            " [ 2.     7.     5.   ]\n",
            " [ 2.     8.     3.606]\n",
            " [ 2.     9.     2.   ]\n",
            " [ 3.     0.     7.348]\n",
            " [ 3.     1.     7.071]\n",
            " [ 3.     2.     3.317]\n",
            " [ 3.     3.     4.   ]\n",
            " [ 3.     4.     2.236]\n",
            " [ 3.     5.     5.   ]\n",
            " [ 3.     6.     4.243]\n",
            " [ 3.     7.     4.472]\n",
            " [ 3.     8.     5.831]\n",
            " [ 3.     9.     3.606]\n",
            " [ 4.     0.     2.828]\n",
            " [ 4.     1.     9.055]\n",
            " [ 4.     2.     9.22 ]\n",
            " [ 4.     3.     4.243]\n",
            " [ 4.     4.     6.403]\n",
            " [ 4.     5.     8.307]\n",
            " [ 4.     6.     8.944]\n",
            " [ 4.     7.     8.602]\n",
            " [ 4.     8.     1.414]\n",
            " [ 4.     9.     3.317]\n",
            " [ 5.     0.     8.124]\n",
            " [ 5.     1.    10.   ]\n",
            " [ 5.     2.     6.083]\n",
            " [ 5.     3.     5.831]\n",
            " [ 5.     4.     1.   ]\n",
            " [ 5.     5.     8.062]\n",
            " [ 5.     6.     7.348]\n",
            " [ 5.     7.     7.616]\n",
            " [ 5.     8.     6.   ]\n",
            " [ 5.     9.     3.   ]\n",
            " [ 6.     0.     8.124]\n",
            " [ 6.     1.    10.   ]\n",
            " [ 6.     2.     6.083]\n",
            " [ 6.     3.     5.831]\n",
            " [ 6.     4.     1.   ]\n",
            " [ 6.     5.     8.062]\n",
            " [ 6.     6.     7.348]\n",
            " [ 6.     7.     7.616]\n",
            " [ 6.     8.     6.   ]\n",
            " [ 6.     9.     3.   ]\n",
            " [ 7.     0.     7.681]\n",
            " [ 7.     1.     6.403]\n",
            " [ 7.     2.     2.449]\n",
            " [ 7.     3.     4.123]\n",
            " [ 7.     4.     3.162]\n",
            " [ 7.     5.     4.243]\n",
            " [ 7.     6.     3.317]\n",
            " [ 7.     7.     3.606]\n",
            " [ 7.     8.     6.403]\n",
            " [ 7.     9.     4.472]\n",
            " [ 8.     0.     6.083]\n",
            " [ 8.     1.     2.236]\n",
            " [ 8.     2.     8.124]\n",
            " [ 8.     3.     5.   ]\n",
            " [ 8.     4.    10.   ]\n",
            " [ 8.     5.     4.   ]\n",
            " [ 8.     6.     6.083]\n",
            " [ 8.     7.     5.   ]\n",
            " [ 8.     8.     7.28 ]\n",
            " [ 8.     9.     8.602]\n",
            " [ 9.     0.     6.083]\n",
            " [ 9.     1.     2.236]\n",
            " [ 9.     2.     8.124]\n",
            " [ 9.     3.     5.   ]\n",
            " [ 9.     4.    10.   ]\n",
            " [ 9.     5.     4.   ]\n",
            " [ 9.     6.     6.083]\n",
            " [ 9.     7.     5.   ]\n",
            " [ 9.     8.     7.28 ]\n",
            " [ 9.     9.     8.602]]\n"
          ]
        }
      ]
    },
    {
      "cell_type": "markdown",
      "source": [
        "10.Sort Dist matrix based on last column.Use(print(a[a[:,n].argsort()])) where a is the matrix and n is the column based on which you need to sort."
      ],
      "metadata": {
        "id": "cVIxtASBYO68"
      }
    },
    {
      "cell_type": "code",
      "source": [
        "(print(Dist[Dist[:,1].argsort()]))"
      ],
      "metadata": {
        "colab": {
          "base_uri": "https://localhost:8080/"
        },
        "id": "RH5XyNLLV3MV",
        "outputId": "896d426f-303f-443d-ff54-79bdc885b0aa"
      },
      "execution_count": 607,
      "outputs": [
        {
          "output_type": "stream",
          "name": "stdout",
          "text": [
            "[[ 0.     0.     4.243]\n",
            " [ 8.     0.     6.083]\n",
            " [ 7.     0.     7.681]\n",
            " [ 6.     0.     8.124]\n",
            " [ 5.     0.     8.124]\n",
            " [ 4.     0.     2.828]\n",
            " [ 3.     0.     7.348]\n",
            " [ 2.     0.     5.196]\n",
            " [ 1.     0.     1.414]\n",
            " [ 9.     0.     6.083]\n",
            " [ 9.     1.     2.236]\n",
            " [ 1.     1.     7.071]\n",
            " [ 4.     1.     9.055]\n",
            " [ 0.     1.     3.162]\n",
            " [ 5.     1.    10.   ]\n",
            " [ 7.     1.     6.403]\n",
            " [ 3.     1.     7.071]\n",
            " [ 8.     1.     2.236]\n",
            " [ 2.     1.     6.708]\n",
            " [ 6.     1.    10.   ]\n",
            " [ 5.     2.     6.083]\n",
            " [ 3.     2.     3.317]\n",
            " [ 8.     2.     8.124]\n",
            " [ 4.     2.     9.22 ]\n",
            " [ 6.     2.     6.083]\n",
            " [ 1.     2.     8.66 ]\n",
            " [ 2.     2.     5.099]\n",
            " [ 9.     2.     8.124]\n",
            " [ 0.     2.     7.141]\n",
            " [ 7.     2.     2.449]\n",
            " [ 6.     3.     5.831]\n",
            " [ 1.     3.     2.828]\n",
            " [ 8.     3.     5.   ]\n",
            " [ 7.     3.     4.123]\n",
            " [ 5.     3.     5.831]\n",
            " [ 4.     3.     4.243]\n",
            " [ 3.     3.     4.   ]\n",
            " [ 9.     3.     5.   ]\n",
            " [ 0.     3.     2.828]\n",
            " [ 2.     3.     2.236]\n",
            " [ 7.     4.     3.162]\n",
            " [ 0.     4.     8.062]\n",
            " [ 6.     4.     1.   ]\n",
            " [ 5.     4.     1.   ]\n",
            " [ 4.     4.     6.403]\n",
            " [ 8.     4.    10.   ]\n",
            " [ 1.     4.     7.   ]\n",
            " [ 9.     4.    10.   ]\n",
            " [ 2.     4.     3.162]\n",
            " [ 3.     4.     2.236]\n",
            " [ 7.     5.     4.243]\n",
            " [ 1.     5.     6.708]\n",
            " [ 6.     5.     8.062]\n",
            " [ 2.     5.     5.099]\n",
            " [ 0.     5.     3.606]\n",
            " [ 9.     5.     4.   ]\n",
            " [ 4.     5.     8.307]\n",
            " [ 5.     5.     8.062]\n",
            " [ 3.     5.     5.   ]\n",
            " [ 8.     5.     4.   ]\n",
            " [ 2.     6.     5.196]\n",
            " [ 0.     6.     5.477]\n",
            " [ 8.     6.     6.083]\n",
            " [ 3.     6.     4.243]\n",
            " [ 7.     6.     3.317]\n",
            " [ 6.     6.     7.348]\n",
            " [ 4.     6.     8.944]\n",
            " [ 5.     6.     7.348]\n",
            " [ 9.     6.     6.083]\n",
            " [ 1.     6.     7.874]\n",
            " [ 7.     7.     3.606]\n",
            " [ 4.     7.     8.602]\n",
            " [ 9.     7.     5.   ]\n",
            " [ 5.     7.     7.616]\n",
            " [ 8.     7.     5.   ]\n",
            " [ 6.     7.     7.616]\n",
            " [ 3.     7.     4.472]\n",
            " [ 2.     7.     5.   ]\n",
            " [ 1.     7.     7.211]\n",
            " [ 0.     7.     4.472]\n",
            " [ 0.     8.     5.099]\n",
            " [ 6.     8.     6.   ]\n",
            " [ 5.     8.     6.   ]\n",
            " [ 4.     8.     1.414]\n",
            " [ 8.     8.     7.28 ]\n",
            " [ 3.     8.     5.831]\n",
            " [ 2.     8.     3.606]\n",
            " [ 1.     8.     1.414]\n",
            " [ 7.     8.     6.403]\n",
            " [ 9.     8.     7.28 ]\n",
            " [ 4.     9.     3.317]\n",
            " [ 7.     9.     4.472]\n",
            " [ 6.     9.     3.   ]\n",
            " [ 5.     9.     3.   ]\n",
            " [ 3.     9.     3.606]\n",
            " [ 2.     9.     2.   ]\n",
            " [ 1.     9.     4.123]\n",
            " [ 0.     9.     6.403]\n",
            " [ 8.     9.     8.602]\n",
            " [ 9.     9.     8.602]]\n"
          ]
        }
      ]
    },
    {
      "cell_type": "markdown",
      "source": [
        "11.Get initial k rows from sorted matrix"
      ],
      "metadata": {
        "id": "P65qgT9JWF71"
      }
    },
    {
      "cell_type": "code",
      "source": [
        "K = 10\n",
        "for i in range(K):\n",
        "  print(Md[i,:])\n",
        "    "
      ],
      "metadata": {
        "colab": {
          "base_uri": "https://localhost:8080/"
        },
        "id": "nZBSWPBGWIQs",
        "outputId": "2571930d-26ea-441a-bac4-aca8130ea299"
      },
      "execution_count": 608,
      "outputs": [
        {
          "output_type": "stream",
          "name": "stdout",
          "text": [
            "[7 9 1]\n",
            "[0 7 0]\n",
            "[2 1 1]\n",
            "[5 6 0]\n",
            "[7 1 0]\n",
            "[1 5 0]\n",
            "[1 3 1]\n",
            "[1 4 0]\n",
            "[8 7 0]\n",
            "[8 4 0]\n"
          ]
        }
      ]
    },
    {
      "cell_type": "markdown",
      "source": [
        "12.Find the number of 1s and number of 0s in k rows found above. Print 1 if the number of 1s are more else print 0."
      ],
      "metadata": {
        "id": "_vHygQKdekaP"
      }
    },
    {
      "cell_type": "code",
      "source": [
        "one = 0\n",
        "zero = 0\n",
        "for i in range(K):\n",
        "  for j in range(3):\n",
        "    if (Md[i][j] == 0):\n",
        "      zero = zero + 1\n",
        "    elif (Md[i][j] == 1):\n",
        "      one = one + 1\n",
        "if(one > zero):\n",
        "    print(1)\n",
        "else:\n",
        "    print(0)\n"
      ],
      "metadata": {
        "colab": {
          "base_uri": "https://localhost:8080/"
        },
        "id": "WeuHPFkoe0l8",
        "outputId": "2be8df5d-58e9-4993-8eb0-853fb780f10d"
      },
      "execution_count": 609,
      "outputs": [
        {
          "output_type": "stream",
          "name": "stdout",
          "text": [
            "0\n"
          ]
        }
      ]
    },
    {
      "cell_type": "markdown",
      "source": [
        "# Part B: KNN implementation"
      ],
      "metadata": {
        "id": "CLNdvFJRbcQS"
      }
    },
    {
      "cell_type": "markdown",
      "source": [
        "a.Loading diabetes dataset"
      ],
      "metadata": {
        "id": "ZRuqwdiecHDY"
      }
    },
    {
      "cell_type": "code",
      "source": [
        "from pandas import read_csv\n",
        "data = read_csv('diabetes.csv')"
      ],
      "metadata": {
        "id": "dRAX6taTcLlw"
      },
      "execution_count": 610,
      "outputs": []
    },
    {
      "cell_type": "markdown",
      "source": [
        "b.Peek few columns"
      ],
      "metadata": {
        "id": "jZ05l8-TcMAD"
      }
    },
    {
      "cell_type": "code",
      "source": [
        "print(data.head(5))\n",
        "print(data.shape)"
      ],
      "metadata": {
        "colab": {
          "base_uri": "https://localhost:8080/"
        },
        "id": "3lB0FvQUcPPo",
        "outputId": "be46c76f-2bd1-43ad-ea6a-5c6db776f78c"
      },
      "execution_count": 611,
      "outputs": [
        {
          "output_type": "stream",
          "name": "stdout",
          "text": [
            "   Pregnancies  Glucose  BloodPressure  SkinThickness  Insulin   BMI  \\\n",
            "0            6      148             72             35        0  33.6   \n",
            "1            1       85             66             29        0  26.6   \n",
            "2            8      183             64              0        0  23.3   \n",
            "3            1       89             66             23       94  28.1   \n",
            "4            0      137             40             35      168  43.1   \n",
            "\n",
            "   DiabetesPedigreeFunction  Age  Outcome  \n",
            "0                     0.627   50        1  \n",
            "1                     0.351   31        0  \n",
            "2                     0.672   32        1  \n",
            "3                     0.167   21        0  \n",
            "4                     2.288   33        1  \n",
            "(768, 9)\n"
          ]
        }
      ]
    },
    {
      "cell_type": "markdown",
      "source": [
        "c.Splitting dataset to 80% training adn 20% testing using numpy slicing "
      ],
      "metadata": {
        "id": "An_CIkQncPlQ"
      }
    },
    {
      "cell_type": "code",
      "source": [
        "from sklearn.model_selection import train_test_split\n",
        "test,training =data.values[:80,:], data.values[80:,:]\n",
        "print(test)"
      ],
      "metadata": {
        "colab": {
          "base_uri": "https://localhost:8080/"
        },
        "id": "a-X25wlwccBZ",
        "outputId": "bd1596af-70b0-4946-8eb6-0ad62ce37719"
      },
      "execution_count": 612,
      "outputs": [
        {
          "output_type": "stream",
          "name": "stdout",
          "text": [
            "[[6.000e+00 1.480e+02 7.200e+01 3.500e+01 0.000e+00 3.360e+01 6.270e-01\n",
            "  5.000e+01 1.000e+00]\n",
            " [1.000e+00 8.500e+01 6.600e+01 2.900e+01 0.000e+00 2.660e+01 3.510e-01\n",
            "  3.100e+01 0.000e+00]\n",
            " [8.000e+00 1.830e+02 6.400e+01 0.000e+00 0.000e+00 2.330e+01 6.720e-01\n",
            "  3.200e+01 1.000e+00]\n",
            " [1.000e+00 8.900e+01 6.600e+01 2.300e+01 9.400e+01 2.810e+01 1.670e-01\n",
            "  2.100e+01 0.000e+00]\n",
            " [0.000e+00 1.370e+02 4.000e+01 3.500e+01 1.680e+02 4.310e+01 2.288e+00\n",
            "  3.300e+01 1.000e+00]\n",
            " [5.000e+00 1.160e+02 7.400e+01 0.000e+00 0.000e+00 2.560e+01 2.010e-01\n",
            "  3.000e+01 0.000e+00]\n",
            " [3.000e+00 7.800e+01 5.000e+01 3.200e+01 8.800e+01 3.100e+01 2.480e-01\n",
            "  2.600e+01 1.000e+00]\n",
            " [1.000e+01 1.150e+02 0.000e+00 0.000e+00 0.000e+00 3.530e+01 1.340e-01\n",
            "  2.900e+01 0.000e+00]\n",
            " [2.000e+00 1.970e+02 7.000e+01 4.500e+01 5.430e+02 3.050e+01 1.580e-01\n",
            "  5.300e+01 1.000e+00]\n",
            " [8.000e+00 1.250e+02 9.600e+01 0.000e+00 0.000e+00 0.000e+00 2.320e-01\n",
            "  5.400e+01 1.000e+00]\n",
            " [4.000e+00 1.100e+02 9.200e+01 0.000e+00 0.000e+00 3.760e+01 1.910e-01\n",
            "  3.000e+01 0.000e+00]\n",
            " [1.000e+01 1.680e+02 7.400e+01 0.000e+00 0.000e+00 3.800e+01 5.370e-01\n",
            "  3.400e+01 1.000e+00]\n",
            " [1.000e+01 1.390e+02 8.000e+01 0.000e+00 0.000e+00 2.710e+01 1.441e+00\n",
            "  5.700e+01 0.000e+00]\n",
            " [1.000e+00 1.890e+02 6.000e+01 2.300e+01 8.460e+02 3.010e+01 3.980e-01\n",
            "  5.900e+01 1.000e+00]\n",
            " [5.000e+00 1.660e+02 7.200e+01 1.900e+01 1.750e+02 2.580e+01 5.870e-01\n",
            "  5.100e+01 1.000e+00]\n",
            " [7.000e+00 1.000e+02 0.000e+00 0.000e+00 0.000e+00 3.000e+01 4.840e-01\n",
            "  3.200e+01 1.000e+00]\n",
            " [0.000e+00 1.180e+02 8.400e+01 4.700e+01 2.300e+02 4.580e+01 5.510e-01\n",
            "  3.100e+01 1.000e+00]\n",
            " [7.000e+00 1.070e+02 7.400e+01 0.000e+00 0.000e+00 2.960e+01 2.540e-01\n",
            "  3.100e+01 1.000e+00]\n",
            " [1.000e+00 1.030e+02 3.000e+01 3.800e+01 8.300e+01 4.330e+01 1.830e-01\n",
            "  3.300e+01 0.000e+00]\n",
            " [1.000e+00 1.150e+02 7.000e+01 3.000e+01 9.600e+01 3.460e+01 5.290e-01\n",
            "  3.200e+01 1.000e+00]\n",
            " [3.000e+00 1.260e+02 8.800e+01 4.100e+01 2.350e+02 3.930e+01 7.040e-01\n",
            "  2.700e+01 0.000e+00]\n",
            " [8.000e+00 9.900e+01 8.400e+01 0.000e+00 0.000e+00 3.540e+01 3.880e-01\n",
            "  5.000e+01 0.000e+00]\n",
            " [7.000e+00 1.960e+02 9.000e+01 0.000e+00 0.000e+00 3.980e+01 4.510e-01\n",
            "  4.100e+01 1.000e+00]\n",
            " [9.000e+00 1.190e+02 8.000e+01 3.500e+01 0.000e+00 2.900e+01 2.630e-01\n",
            "  2.900e+01 1.000e+00]\n",
            " [1.100e+01 1.430e+02 9.400e+01 3.300e+01 1.460e+02 3.660e+01 2.540e-01\n",
            "  5.100e+01 1.000e+00]\n",
            " [1.000e+01 1.250e+02 7.000e+01 2.600e+01 1.150e+02 3.110e+01 2.050e-01\n",
            "  4.100e+01 1.000e+00]\n",
            " [7.000e+00 1.470e+02 7.600e+01 0.000e+00 0.000e+00 3.940e+01 2.570e-01\n",
            "  4.300e+01 1.000e+00]\n",
            " [1.000e+00 9.700e+01 6.600e+01 1.500e+01 1.400e+02 2.320e+01 4.870e-01\n",
            "  2.200e+01 0.000e+00]\n",
            " [1.300e+01 1.450e+02 8.200e+01 1.900e+01 1.100e+02 2.220e+01 2.450e-01\n",
            "  5.700e+01 0.000e+00]\n",
            " [5.000e+00 1.170e+02 9.200e+01 0.000e+00 0.000e+00 3.410e+01 3.370e-01\n",
            "  3.800e+01 0.000e+00]\n",
            " [5.000e+00 1.090e+02 7.500e+01 2.600e+01 0.000e+00 3.600e+01 5.460e-01\n",
            "  6.000e+01 0.000e+00]\n",
            " [3.000e+00 1.580e+02 7.600e+01 3.600e+01 2.450e+02 3.160e+01 8.510e-01\n",
            "  2.800e+01 1.000e+00]\n",
            " [3.000e+00 8.800e+01 5.800e+01 1.100e+01 5.400e+01 2.480e+01 2.670e-01\n",
            "  2.200e+01 0.000e+00]\n",
            " [6.000e+00 9.200e+01 9.200e+01 0.000e+00 0.000e+00 1.990e+01 1.880e-01\n",
            "  2.800e+01 0.000e+00]\n",
            " [1.000e+01 1.220e+02 7.800e+01 3.100e+01 0.000e+00 2.760e+01 5.120e-01\n",
            "  4.500e+01 0.000e+00]\n",
            " [4.000e+00 1.030e+02 6.000e+01 3.300e+01 1.920e+02 2.400e+01 9.660e-01\n",
            "  3.300e+01 0.000e+00]\n",
            " [1.100e+01 1.380e+02 7.600e+01 0.000e+00 0.000e+00 3.320e+01 4.200e-01\n",
            "  3.500e+01 0.000e+00]\n",
            " [9.000e+00 1.020e+02 7.600e+01 3.700e+01 0.000e+00 3.290e+01 6.650e-01\n",
            "  4.600e+01 1.000e+00]\n",
            " [2.000e+00 9.000e+01 6.800e+01 4.200e+01 0.000e+00 3.820e+01 5.030e-01\n",
            "  2.700e+01 1.000e+00]\n",
            " [4.000e+00 1.110e+02 7.200e+01 4.700e+01 2.070e+02 3.710e+01 1.390e+00\n",
            "  5.600e+01 1.000e+00]\n",
            " [3.000e+00 1.800e+02 6.400e+01 2.500e+01 7.000e+01 3.400e+01 2.710e-01\n",
            "  2.600e+01 0.000e+00]\n",
            " [7.000e+00 1.330e+02 8.400e+01 0.000e+00 0.000e+00 4.020e+01 6.960e-01\n",
            "  3.700e+01 0.000e+00]\n",
            " [7.000e+00 1.060e+02 9.200e+01 1.800e+01 0.000e+00 2.270e+01 2.350e-01\n",
            "  4.800e+01 0.000e+00]\n",
            " [9.000e+00 1.710e+02 1.100e+02 2.400e+01 2.400e+02 4.540e+01 7.210e-01\n",
            "  5.400e+01 1.000e+00]\n",
            " [7.000e+00 1.590e+02 6.400e+01 0.000e+00 0.000e+00 2.740e+01 2.940e-01\n",
            "  4.000e+01 0.000e+00]\n",
            " [0.000e+00 1.800e+02 6.600e+01 3.900e+01 0.000e+00 4.200e+01 1.893e+00\n",
            "  2.500e+01 1.000e+00]\n",
            " [1.000e+00 1.460e+02 5.600e+01 0.000e+00 0.000e+00 2.970e+01 5.640e-01\n",
            "  2.900e+01 0.000e+00]\n",
            " [2.000e+00 7.100e+01 7.000e+01 2.700e+01 0.000e+00 2.800e+01 5.860e-01\n",
            "  2.200e+01 0.000e+00]\n",
            " [7.000e+00 1.030e+02 6.600e+01 3.200e+01 0.000e+00 3.910e+01 3.440e-01\n",
            "  3.100e+01 1.000e+00]\n",
            " [7.000e+00 1.050e+02 0.000e+00 0.000e+00 0.000e+00 0.000e+00 3.050e-01\n",
            "  2.400e+01 0.000e+00]\n",
            " [1.000e+00 1.030e+02 8.000e+01 1.100e+01 8.200e+01 1.940e+01 4.910e-01\n",
            "  2.200e+01 0.000e+00]\n",
            " [1.000e+00 1.010e+02 5.000e+01 1.500e+01 3.600e+01 2.420e+01 5.260e-01\n",
            "  2.600e+01 0.000e+00]\n",
            " [5.000e+00 8.800e+01 6.600e+01 2.100e+01 2.300e+01 2.440e+01 3.420e-01\n",
            "  3.000e+01 0.000e+00]\n",
            " [8.000e+00 1.760e+02 9.000e+01 3.400e+01 3.000e+02 3.370e+01 4.670e-01\n",
            "  5.800e+01 1.000e+00]\n",
            " [7.000e+00 1.500e+02 6.600e+01 4.200e+01 3.420e+02 3.470e+01 7.180e-01\n",
            "  4.200e+01 0.000e+00]\n",
            " [1.000e+00 7.300e+01 5.000e+01 1.000e+01 0.000e+00 2.300e+01 2.480e-01\n",
            "  2.100e+01 0.000e+00]\n",
            " [7.000e+00 1.870e+02 6.800e+01 3.900e+01 3.040e+02 3.770e+01 2.540e-01\n",
            "  4.100e+01 1.000e+00]\n",
            " [0.000e+00 1.000e+02 8.800e+01 6.000e+01 1.100e+02 4.680e+01 9.620e-01\n",
            "  3.100e+01 0.000e+00]\n",
            " [0.000e+00 1.460e+02 8.200e+01 0.000e+00 0.000e+00 4.050e+01 1.781e+00\n",
            "  4.400e+01 0.000e+00]\n",
            " [0.000e+00 1.050e+02 6.400e+01 4.100e+01 1.420e+02 4.150e+01 1.730e-01\n",
            "  2.200e+01 0.000e+00]\n",
            " [2.000e+00 8.400e+01 0.000e+00 0.000e+00 0.000e+00 0.000e+00 3.040e-01\n",
            "  2.100e+01 0.000e+00]\n",
            " [8.000e+00 1.330e+02 7.200e+01 0.000e+00 0.000e+00 3.290e+01 2.700e-01\n",
            "  3.900e+01 1.000e+00]\n",
            " [5.000e+00 4.400e+01 6.200e+01 0.000e+00 0.000e+00 2.500e+01 5.870e-01\n",
            "  3.600e+01 0.000e+00]\n",
            " [2.000e+00 1.410e+02 5.800e+01 3.400e+01 1.280e+02 2.540e+01 6.990e-01\n",
            "  2.400e+01 0.000e+00]\n",
            " [7.000e+00 1.140e+02 6.600e+01 0.000e+00 0.000e+00 3.280e+01 2.580e-01\n",
            "  4.200e+01 1.000e+00]\n",
            " [5.000e+00 9.900e+01 7.400e+01 2.700e+01 0.000e+00 2.900e+01 2.030e-01\n",
            "  3.200e+01 0.000e+00]\n",
            " [0.000e+00 1.090e+02 8.800e+01 3.000e+01 0.000e+00 3.250e+01 8.550e-01\n",
            "  3.800e+01 1.000e+00]\n",
            " [2.000e+00 1.090e+02 9.200e+01 0.000e+00 0.000e+00 4.270e+01 8.450e-01\n",
            "  5.400e+01 0.000e+00]\n",
            " [1.000e+00 9.500e+01 6.600e+01 1.300e+01 3.800e+01 1.960e+01 3.340e-01\n",
            "  2.500e+01 0.000e+00]\n",
            " [4.000e+00 1.460e+02 8.500e+01 2.700e+01 1.000e+02 2.890e+01 1.890e-01\n",
            "  2.700e+01 0.000e+00]\n",
            " [2.000e+00 1.000e+02 6.600e+01 2.000e+01 9.000e+01 3.290e+01 8.670e-01\n",
            "  2.800e+01 1.000e+00]\n",
            " [5.000e+00 1.390e+02 6.400e+01 3.500e+01 1.400e+02 2.860e+01 4.110e-01\n",
            "  2.600e+01 0.000e+00]\n",
            " [1.300e+01 1.260e+02 9.000e+01 0.000e+00 0.000e+00 4.340e+01 5.830e-01\n",
            "  4.200e+01 1.000e+00]\n",
            " [4.000e+00 1.290e+02 8.600e+01 2.000e+01 2.700e+02 3.510e+01 2.310e-01\n",
            "  2.300e+01 0.000e+00]\n",
            " [1.000e+00 7.900e+01 7.500e+01 3.000e+01 0.000e+00 3.200e+01 3.960e-01\n",
            "  2.200e+01 0.000e+00]\n",
            " [1.000e+00 0.000e+00 4.800e+01 2.000e+01 0.000e+00 2.470e+01 1.400e-01\n",
            "  2.200e+01 0.000e+00]\n",
            " [7.000e+00 6.200e+01 7.800e+01 0.000e+00 0.000e+00 3.260e+01 3.910e-01\n",
            "  4.100e+01 0.000e+00]\n",
            " [5.000e+00 9.500e+01 7.200e+01 3.300e+01 0.000e+00 3.770e+01 3.700e-01\n",
            "  2.700e+01 0.000e+00]\n",
            " [0.000e+00 1.310e+02 0.000e+00 0.000e+00 0.000e+00 4.320e+01 2.700e-01\n",
            "  2.600e+01 1.000e+00]\n",
            " [2.000e+00 1.120e+02 6.600e+01 2.200e+01 0.000e+00 2.500e+01 3.070e-01\n",
            "  2.400e+01 0.000e+00]]\n"
          ]
        }
      ]
    },
    {
      "cell_type": "code",
      "source": [
        "print(training)"
      ],
      "metadata": {
        "colab": {
          "base_uri": "https://localhost:8080/"
        },
        "id": "k7m-kOwdyzzx",
        "outputId": "c18d7959-256a-4ecb-da13-74eeb4f14147"
      },
      "execution_count": 613,
      "outputs": [
        {
          "output_type": "stream",
          "name": "stdout",
          "text": [
            "[[3.00e+00 1.13e+02 4.40e+01 ... 1.40e-01 2.20e+01 0.00e+00]\n",
            " [2.00e+00 7.40e+01 0.00e+00 ... 1.02e-01 2.20e+01 0.00e+00]\n",
            " [7.00e+00 8.30e+01 7.80e+01 ... 7.67e-01 3.60e+01 0.00e+00]\n",
            " ...\n",
            " [5.00e+00 1.21e+02 7.20e+01 ... 2.45e-01 3.00e+01 0.00e+00]\n",
            " [1.00e+00 1.26e+02 6.00e+01 ... 3.49e-01 4.70e+01 1.00e+00]\n",
            " [1.00e+00 9.30e+01 7.00e+01 ... 3.15e-01 2.30e+01 0.00e+00]]\n"
          ]
        }
      ]
    },
    {
      "cell_type": "markdown",
      "source": [
        "d.Use inbuilt function to do splitting and interpret the results"
      ],
      "metadata": {
        "id": "sNXrf8z1cejB"
      }
    },
    {
      "cell_type": "code",
      "source": [
        "from sklearn.model_selection import train_test_split  \n",
        "arr=data.values\n",
        "X=arr[:,0:8]\n",
        "Y=arr[:,8]\n",
        "X_train, X_test, y_train, y_test = train_test_split(X, Y, test_size=0.20)  \n",
        "print( X_test)"
      ],
      "metadata": {
        "colab": {
          "base_uri": "https://localhost:8080/"
        },
        "id": "GJ0rQPj2cj4e",
        "outputId": "bea65ec9-9af3-462e-bea9-4ef84a49b718"
      },
      "execution_count": 614,
      "outputs": [
        {
          "output_type": "stream",
          "name": "stdout",
          "text": [
            "[[  1.     95.     82.    ...  35.      0.233  43.   ]\n",
            " [  0.    128.     68.    ...  30.5     1.391  25.   ]\n",
            " [  0.     74.     52.    ...  27.8     0.269  22.   ]\n",
            " ...\n",
            " [  8.    126.     88.    ...  38.5     0.349  49.   ]\n",
            " [  2.    112.     78.    ...  39.4     0.175  24.   ]\n",
            " [  1.     97.     66.    ...  23.2     0.487  22.   ]]\n"
          ]
        }
      ]
    },
    {
      "cell_type": "markdown",
      "source": [
        "e.Do normalization of training as well as testing dataset using StandardScaler"
      ],
      "metadata": {
        "id": "yGlhduryckPM"
      }
    },
    {
      "cell_type": "code",
      "source": [
        "from sklearn import preprocessing\n",
        "from sklearn.preprocessing import StandardScaler\n",
        "scaler=StandardScaler().fit(X_test)\n",
        "scaler=StandardScaler().fit(X_train)\n",
        "rescaledX=scaler.transform(X)\n",
        "np.set_printoptions(precision=3)\n",
        "print(rescaledX[0:2,:])\n",
        "print(X[0:2,:])\n",
        "\n",
        "import matplotlib.pyplot as plt\n",
        "import pandas\n",
        "mydataframe = pandas.DataFrame(arr)\n",
        "print(mydataframe)\n",
        "mydataframe.plot(kind='bar')\n",
        "plt.show()\n",
        "\n",
        "from sklearn import preprocessing\n",
        "fl_x=mydataframe.values.astype(float)\n",
        "min_max_scaler=preprocessing.MinMaxScaler()\n",
        "X_scaled=min_max_scaler.fit_transform(fl_x)\n",
        "df_normalized=pandas.DataFrame(X_scaled)\n",
        "print(df_normalized)\n",
        "df_normalized.plot(kind='bar')\n",
        "plt.show()"
      ],
      "metadata": {
        "colab": {
          "base_uri": "https://localhost:8080/"
        },
        "id": "-Mznn8sgcq6t",
        "outputId": "bcd8a085-764c-4a35-b994-8789bbdd347e"
      },
      "execution_count": null,
      "outputs": [
        {
          "output_type": "stream",
          "name": "stdout",
          "text": [
            "[[ 0.627  0.839  0.165  0.925 -0.698  0.187  0.455  1.451]\n",
            " [-0.847 -1.13  -0.142  0.537 -0.698 -0.713 -0.359 -0.187]]\n",
            "[[  6.    148.     72.     35.      0.     33.6     0.627  50.   ]\n",
            " [  1.     85.     66.     29.      0.     26.6     0.351  31.   ]]\n",
            "        0      1     2     3      4     5      6     7    8\n",
            "0     6.0  148.0  72.0  35.0    0.0  33.6  0.627  50.0  1.0\n",
            "1     1.0   85.0  66.0  29.0    0.0  26.6  0.351  31.0  0.0\n",
            "2     8.0  183.0  64.0   0.0    0.0  23.3  0.672  32.0  1.0\n",
            "3     1.0   89.0  66.0  23.0   94.0  28.1  0.167  21.0  0.0\n",
            "4     0.0  137.0  40.0  35.0  168.0  43.1  2.288  33.0  1.0\n",
            "..    ...    ...   ...   ...    ...   ...    ...   ...  ...\n",
            "763  10.0  101.0  76.0  48.0  180.0  32.9  0.171  63.0  0.0\n",
            "764   2.0  122.0  70.0  27.0    0.0  36.8  0.340  27.0  0.0\n",
            "765   5.0  121.0  72.0  23.0  112.0  26.2  0.245  30.0  0.0\n",
            "766   1.0  126.0  60.0   0.0    0.0  30.1  0.349  47.0  1.0\n",
            "767   1.0   93.0  70.0  31.0    0.0  30.4  0.315  23.0  0.0\n",
            "\n",
            "[768 rows x 9 columns]\n"
          ]
        }
      ]
    },
    {
      "cell_type": "markdown",
      "source": [
        "Is it required to execute the following code for X_test too? "
      ],
      "metadata": {
        "id": "AQP81Lw2cs9a"
      }
    },
    {
      "cell_type": "markdown",
      "source": [
        "Ans: Yes you need to apply normalisation to test data, if your algorithm works with or needs normalised training data.\n",
        "\n",
        "That is because your model works on the representation given by its input vectors. The scale of those numbers is part of the representation. This is a bit like converting between feet and metres . . . a model or formula would work with just one type of unit normally."
      ],
      "metadata": {
        "id": "JvUMjTqOAnVj"
      }
    },
    {
      "cell_type": "markdown",
      "source": [
        "f.Invoke inbuilt KNN function"
      ],
      "metadata": {
        "id": "pA6Tlz4tcxiA"
      }
    },
    {
      "cell_type": "code",
      "source": [
        "from sklearn.neighbors import KNeighborsClassifier \n",
        "classifier = KNeighborsClassifier(n_neighbors=5)  \n",
        "classifier.fit(X_train, y_train)\n",
        "y_pred = classifier.predict(X_test)\n",
        "print(y_pred)"
      ],
      "metadata": {
        "id": "RbJ1Htdvc1uW"
      },
      "execution_count": null,
      "outputs": []
    },
    {
      "cell_type": "markdown",
      "source": [
        "g.Evaluate KNN function"
      ],
      "metadata": {
        "id": "cTo-NAZ1c2IS"
      }
    },
    {
      "cell_type": "code",
      "source": [
        "from sklearn.metrics import classification_report, confusion_matrix  \n",
        "from sklearn.metrics import accuracy_score\n",
        "matrix =confusion_matrix(y_test, y_pred)\n",
        "print(confusion_matrix(y_test, y_pred))  \n",
        "accuracy = accuracy_score (y_test,y_pred)\n",
        "print(classification_report(y_test, y_pred)) "
      ],
      "metadata": {
        "id": "oZCyhU7Wc6Yi"
      },
      "execution_count": null,
      "outputs": []
    },
    {
      "cell_type": "markdown",
      "source": [
        "## Explain the output obtained"
      ],
      "metadata": {
        "id": "xNQ_rmsac6xF"
      }
    },
    {
      "cell_type": "markdown",
      "source": [
        "h.Find the total no of correct predictions"
      ],
      "metadata": {
        "id": "pULw3FR0dSDN"
      }
    },
    {
      "cell_type": "code",
      "source": [
        "total_test = len(X_test)\n",
        "total_correct = matrix[0,0]\n",
        "print(f\"Number correct outcome from the total test size of {total_test} is {total_correct}\")"
      ],
      "metadata": {
        "id": "pFTnbbU4t4HI"
      },
      "execution_count": null,
      "outputs": []
    },
    {
      "cell_type": "markdown",
      "source": [
        "i.Repeat f,g,h for different values of k in KNN and plot the graph"
      ],
      "metadata": {
        "id": "ia9JuW4JdXEO"
      }
    },
    {
      "cell_type": "markdown",
      "source": [
        "test 1: value higher than before"
      ],
      "metadata": {
        "id": "uni249V3wJeC"
      }
    },
    {
      "cell_type": "code",
      "source": [
        "error_rate = []\n",
        "for i in range(1,40):\n",
        " knn = KNeighborsClassifier(n_neighbors=i)\n",
        " knn.fit(X_train,y_train)\n",
        " pred_i = knn.predict(X_test)\n",
        " error_rate.append(np.mean(pred_i != y_test))\n",
        "plt.figure(figsize=(10,6))\n",
        "plt.plot(range(1,40),error_rate,color='black', linestyle='dashed', marker='+',\n",
        "markerfacecolor='yellow', markersize=10)\n",
        "plt.title('Error Rate vs. K Value')\n",
        "plt.xlabel('K')\n",
        "plt.ylabel('Error Rate')"
      ],
      "metadata": {
        "id": "cqMySaYT6yhW"
      },
      "execution_count": null,
      "outputs": []
    }
  ]
}